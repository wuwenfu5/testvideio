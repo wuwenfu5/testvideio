{
 "cells": [
  {
   "cell_type": "code",
   "execution_count": 2,
   "metadata": {},
   "outputs": [
    {
     "name": "stdout",
     "output_type": "stream",
     "text": [
      "capture is opened\n",
      "32 \n",
      "  \n"
     ]
    }
   ],
   "source": [
    "# -*- coding:utf-8 -*-\n",
    "\"\"\"\n",
    "@author:Mr.Five\n",
    "@email:wuwenfu5@qq.com\n",
    "@num&WeChat:+86-15241192213\n",
    "@file:testv.py\n",
    "@time:18-4-7下午8:33\n",
    "\"\"\"\n",
    "\n",
    "# import numpy as np\n",
    "import cv2\n",
    "# import time\n",
    "\n",
    "# cap = cv2.VideoCapture(r\"/home/wuwenfu5/PycharmProjects/Three_people_cross.mp4\")\n",
    "cap = cv2.VideoCapture(0)\n",
    "\n",
    "\n",
    "if False == cap.isOpened():\n",
    "    print('capture is not opened')\n",
    "else:\n",
    "    print('capture is opened')\n",
    "\n",
    "\n",
    "kernel3x3 = cv2.getStructuringElement(cv2.MORPH_RECT, (3, 3))\n",
    "kernel6x6 = cv2.getStructuringElement(cv2.MORPH_RECT, (4, 4))\n",
    "\n",
    "fgbg = cv2.createBackgroundSubtractorMOG2(history=500, varThreshold=16, detectShadows=True)\n",
    "\n",
    "params = cv2.SimpleBlobDetector_Params()\n",
    "# Change thresholds\n",
    "# params.minThreshold = 10\n",
    "# params.maxThreshold = 200\n",
    "\n",
    "params.minDistBetweenBlobs = 30\n",
    "\n",
    "# 检测白色\n",
    "params.filterByColor = True\n",
    "params.blobColor = 255\n",
    "\n",
    "# Filter by Area. 面积\n",
    "params.filterByArea = True\n",
    "params.minArea = 100\n",
    "params.maxArea = 2500\n",
    "\n",
    "# Filter by Circularity 圆度\n",
    "params.filterByCircularity = False\n",
    "params.minCircularity = 0.1\n",
    "\n",
    "# Filter by Convexity 凸性\n",
    "params.filterByConvexity = False\n",
    "params.minConvexity = 0.3\n",
    "\n",
    "# Filter by Inertia 惯性\n",
    "params.filterByInertia = False\n",
    "params.minInertiaRatio = 0.01\n",
    "\n",
    "time_last = -1.0  # 避免刚运行程序时时间差为0，\n",
    "frame_count = 0\n",
    "\n",
    "while (1):\n",
    "    ret, frame = cap.read()\n",
    "\n",
    "    if ret == True:\n",
    "        keycode = cv2.waitKey(1) & 0xff\n",
    "        if keycode != 0xff:\n",
    "            print(keycode, '\\n', chr(keycode))\n",
    "            break\n",
    "\n",
    "        gray = cv2.cvtColor(frame, cv2.COLOR_RGB2GRAY)\n",
    "        fgmask = fgbg.apply(gray)\n",
    "        cv2.imshow('Foreground', fgmask)\n",
    "\n",
    "    else:\n",
    "        print('get frame error!')\n",
    "        break\n",
    "\n",
    "cap.release()\n",
    "cv2.destroyAllWindows()\n"
   ]
  },
  {
   "cell_type": "code",
   "execution_count": null,
   "metadata": {},
   "outputs": [],
   "source": []
  }
 ],
 "metadata": {
  "kernelspec": {
   "display_name": "Python 3",
   "language": "python",
   "name": "python3"
  },
  "language_info": {
   "codemirror_mode": {
    "name": "ipython",
    "version": 3
   },
   "file_extension": ".py",
   "mimetype": "text/x-python",
   "name": "python",
   "nbconvert_exporter": "python",
   "pygments_lexer": "ipython3",
   "version": "3.6.5"
  }
 },
 "nbformat": 4,
 "nbformat_minor": 2
}
